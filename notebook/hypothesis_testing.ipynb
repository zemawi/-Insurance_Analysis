{
 "cells": [
  {
   "cell_type": "markdown",
   "id": "01777992",
   "metadata": {},
   "source": [
    "Insurance Data Analysis"
   ]
  },
  {
   "cell_type": "markdown",
   "id": "de6fd164",
   "metadata": {},
   "source": [
    "Hypothesis Testing"
   ]
  },
  {
   "cell_type": "markdown",
   "id": "469214d4",
   "metadata": {},
   "source": [
    "Importing necessary libraries"
   ]
  },
  {
   "cell_type": "code",
   "execution_count": 1,
   "id": "11c590d0",
   "metadata": {},
   "outputs": [],
   "source": [
    "import pandas as pd\n",
    "import numpy as np\n",
    "import matplotlib.pyplot as plt\n",
    "import seaborn as sns\n",
    "\n",
    "import sys\n",
    "import os"
   ]
  },
  {
   "cell_type": "code",
   "execution_count": 2,
   "id": "bb820322",
   "metadata": {},
   "outputs": [],
   "source": [
    "sys.path.append(os.path.abspath('../scripts'))\n",
    "from hypothesis_testing import HypothesisTest "
   ]
  },
  {
   "cell_type": "code",
   "execution_count": 3,
   "id": "198c3e04",
   "metadata": {},
   "outputs": [],
   "source": [
    "data = pd.read_csv('../data/dataset_cleaned.csv', low_memory=False)"
   ]
  },
  {
   "cell_type": "code",
   "execution_count": 4,
   "id": "06b0dd11",
   "metadata": {},
   "outputs": [],
   "source": [
    "hypo_test = HypothesisTest(data)"
   ]
  },
  {
   "cell_type": "markdown",
   "id": "0633c069",
   "metadata": {},
   "source": [
    "Hypothesis 1: There are no risk differences across provinces"
   ]
  },
  {
   "cell_type": "code",
   "execution_count": 5,
   "id": "272e51fc",
   "metadata": {},
   "outputs": [
    {
     "name": "stdout",
     "output_type": "stream",
     "text": [
      "Province T-test: t-stat=1.908551760101622, p-value=0.056320446498719125\n",
      "Fail to reject the null hypothesis: There are no risk differences across provinces.\n"
     ]
    }
   ],
   "source": [
    "hypothesis = 'There are no risk differences across provinces'\n",
    "kpi = 'TotalClaims'\n",
    "\n",
    "# selecting the top two provinces by vlaue count\n",
    "group_A = data[data['Province'] == 'Gauteng'][kpi]\n",
    "group_B = data[data['Province'] == 'Western Cape'][kpi]\n",
    "\n",
    "t_stat, p_value = hypo_test.statistical_test(group_A, group_B)\n",
    "\n",
    "hypo_test.interpret_test(t_stat, p_value, hypothesis)"
   ]
  },
  {
   "cell_type": "markdown",
   "id": "c27a1346",
   "metadata": {},
   "source": [
    "Observation"
   ]
  },
  {
   "cell_type": "markdown",
   "id": "6ba69397",
   "metadata": {},
   "source": [
    "* There is a risk differences across provinces."
   ]
  },
  {
   "cell_type": "markdown",
   "id": "248685f7",
   "metadata": {},
   "source": [
    "Hypothesis 2: There are no risk differences between zip codes"
   ]
  },
  {
   "cell_type": "code",
   "execution_count": 6,
   "id": "ecc57011",
   "metadata": {},
   "outputs": [
    {
     "name": "stdout",
     "output_type": "stream",
     "text": [
      "Province T-test: t-stat=0.7385771092476285, p-value=0.46016445559156016\n",
      "Fail to reject the null hypothesis: There are no risk differences between SubCrestaZone.\n"
     ]
    }
   ],
   "source": [
    "hypothesis = 'There are no risk differences between SubCrestaZone'\n",
    "kpi = 'TotalClaims'\n",
    "\n",
    "# selecting the top two provinces by vlaue count\n",
    "group_A = data[data['SubCrestaZone'] == 'Johannesburg'][kpi]\n",
    "group_B = data[data['SubCrestaZone'] == 'Pretoria'][kpi]\n",
    "\n",
    "t_stat, p_value = hypo_test.statistical_test(group_A, group_B)\n",
    "\n",
    "hypo_test.interpret_test(t_stat, p_value, hypothesis)"
   ]
  },
  {
   "cell_type": "markdown",
   "id": "e7314591",
   "metadata": {},
   "source": [
    "Observation"
   ]
  },
  {
   "cell_type": "markdown",
   "id": "0555f60f",
   "metadata": {},
   "source": [
    "* There are no risk differences between SubCrestaZone."
   ]
  },
  {
   "cell_type": "markdown",
   "id": "9a842f9a",
   "metadata": {},
   "source": [
    "Hypothesis 3: There are no significant margin (profit) difference between zip codes"
   ]
  },
  {
   "cell_type": "code",
   "execution_count": 7,
   "id": "9f55487d",
   "metadata": {},
   "outputs": [
    {
     "name": "stdout",
     "output_type": "stream",
     "text": [
      "Province T-test: t-stat=-0.13467643977386431, p-value=0.8928677998726342\n",
      "Fail to reject the null hypothesis: There are no significant margin (profit) difference between SubCrestaZone.\n"
     ]
    }
   ],
   "source": [
    "hypothesis = 'There are no significant margin (profit) difference between SubCrestaZone'\n",
    "data['Profit_margin'] = data['TotalPremium'] - data['TotalClaims']\n",
    "kpi = 'Profit_margin'\n",
    "\n",
    "\n",
    "group_A = data[data['SubCrestaZone'] == 'Johannesburg'][kpi]\n",
    "group_B = data[data['SubCrestaZone'] == 'Pretoria'][kpi]\n",
    "\n",
    "t_stat, p_value = hypo_test.statistical_test(group_A, group_B)\n",
    "\n",
    "hypo_test.interpret_test(t_stat, p_value, hypothesis)"
   ]
  },
  {
   "cell_type": "markdown",
   "id": "219fc531",
   "metadata": {},
   "source": [
    "Observation"
   ]
  },
  {
   "cell_type": "markdown",
   "id": "df0e21f3",
   "metadata": {},
   "source": [
    "* There are no significant margin (profit) difference between SubCrestaZone."
   ]
  },
  {
   "cell_type": "markdown",
   "id": "d8184312",
   "metadata": {},
   "source": [
    "Hypothsis 4: There are not significant risk difference between Women and Men"
   ]
  },
  {
   "cell_type": "code",
   "execution_count": 8,
   "id": "b4420f68",
   "metadata": {},
   "outputs": [
    {
     "name": "stdout",
     "output_type": "stream",
     "text": [
      "Province T-test: t-stat=-0.24803623812388725, p-value=0.8041073961270343\n",
      "Fail to reject the null hypothesis: There are not significant risk difference between Women and Men.\n"
     ]
    }
   ],
   "source": [
    "hypothesis = 'There are not significant risk difference between Women and Men'\n",
    "kpi = 'TotalClaims'\n",
    "\n",
    "\n",
    "group_A = data[data['Gender'] == 'Male'][kpi]\n",
    "group_B = data[data['Gender'] == 'Female'][kpi]\n",
    "\n",
    "t_stat, p_value = hypo_test.statistical_test(group_A, group_B)\n",
    "\n",
    "hypo_test.interpret_test(t_stat, p_value, hypothesis)"
   ]
  },
  {
   "cell_type": "markdown",
   "id": "4689096e",
   "metadata": {},
   "source": [
    "Observation"
   ]
  },
  {
   "cell_type": "markdown",
   "id": "346b02c3",
   "metadata": {},
   "source": [
    "* There is significant risk difference between Women and Men"
   ]
  }
 ],
 "metadata": {
  "kernelspec": {
   "display_name": "venv",
   "language": "python",
   "name": "python3"
  },
  "language_info": {
   "codemirror_mode": {
    "name": "ipython",
    "version": 3
   },
   "file_extension": ".py",
   "mimetype": "text/x-python",
   "name": "python",
   "nbconvert_exporter": "python",
   "pygments_lexer": "ipython3",
   "version": "3.13.3"
  }
 },
 "nbformat": 4,
 "nbformat_minor": 5
}
